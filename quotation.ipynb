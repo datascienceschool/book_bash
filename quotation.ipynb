{
 "cells": [
  {
   "cell_type": "markdown",
   "id": "95735c5c",
   "metadata": {},
   "source": [
    "# 인용 규칙"
   ]
  },
  {
   "cell_type": "markdown",
   "id": "4b0be50c",
   "metadata": {},
   "source": [
    ":::{.hidden}\n",
    "\n",
    "- https://www.gnu.org/software/bash/manual/bash.html#Shell-Operation-1\n",
    "- chrome-extension://oemmndcbldboiebfnladdacbdfmadadm/file:///Users/joelkim/Work/study/study_linux/book/Script/Newham/2005%20-%20Newham%20-%20Learning%20the%20bash%20Shell.pdf#G11.633225\n",
    "- chrome-extension://oemmndcbldboiebfnladdacbdfmadadm/file:///Users/joelkim/Work/study/study_linux/book/Script/Johnson/2015%20-%20Johnson%20-%20Pro%20Bash%20Programming.pdf#9781484201220_Ch04.indd%3Ab9781484201220_4%3A1\n",
    "- chrome-extension://oemmndcbldboiebfnladdacbdfmadadm/file:///Users/joelkim/Work/study/study_linux/book/Script/Varma/2023%20-%20%C2%A0Varma%20-%20Pro%20Bash.pdf#0005706048.indd%3Ab978-1-4842-9588-5_4%3A160\n",
    "\n",
    ":::"
   ]
  },
  {
   "cell_type": "markdown",
   "id": "27068c9b",
   "metadata": {},
   "source": [
    "- 인용(Quoting)은 셸에서 특수한 의미를 가지는 특정 문자나 단어에서 해당 특수 의미를 제거하고 글자/단어 그대로 표현하는 것을 말한다.\n",
    "- 인용 수단에는 다음과 같은 방법이 있다.\n",
    "  - 문자 하나만 인용하는 경우\n",
    "    - 이스케이프 문자(Escape Character)\n",
    "  - 하나이상의 문자열을 인용하는 경우 \n",
    "    - 홑따옴표(Single Quotes)\n",
    "    - 겹따옴표(Double Quotes)\n",
    "    - 달러표시(Dollar-Single Quotes)\n",
    "\n"
   ]
  },
  {
   "cell_type": "markdown",
   "id": "8711ac4c",
   "metadata": {},
   "source": [
    "## 홑따옴표"
   ]
  },
  {
   "cell_type": "markdown",
   "id": "0511e8ea",
   "metadata": {},
   "source": [
    "- 문자열을 홑따옴표로 감싸면 홑따옴표 내부의 모든 특수 문자의 의미가 사라지고 단순히 해당 문자를 표기하게 된다."
   ]
  },
  {
   "cell_type": "markdown",
   "id": "0d410681",
   "metadata": {},
   "source": [
    "## 겹따옴표"
   ]
  },
  {
   "cell_type": "markdown",
   "id": "7eb8498e",
   "metadata": {},
   "source": [
    "- 문자열을 겹따옴표로 감싸면 **다음 사항을 제외**하고 나머지 특수 문자의 의미가 사라진다.\n",
    "  - \"`$`\"로 시작하는 특수 문자\n",
    "    - 변수 확장됨\n",
    "  - \"\\`\"로 시작하는 특수 문자\n",
    "    - 치환됨\n",
    "  - \"`\\`\"로 시작하는 특수 문자\n",
    "    - 백슬래시 기호 뒤 문자가 `$`, ```, `\"`, `\\`, `newline` 이면 백슬래시만 사라지고 뒤 문자가 남음\n",
    "    - 다른 경우에는 백슬래시 기호가 사라지지 않음\n",
    "  - \"`!`\"로 시작하는 특수 문자\n",
    "    - 히스토리 확장됨\n",
    "  - \"`*`\" 인수\n",
    "  - \"`@`\" 인수\n"
   ]
  },
  {
   "cell_type": "code",
   "execution_count": 1,
   "id": "572d7b1a",
   "metadata": {
    "vscode": {
     "languageId": "shellscript"
    }
   },
   "outputs": [
    {
     "name": "stdout",
     "output_type": "stream",
     "text": [
      "My name is $name.\n"
     ]
    }
   ],
   "source": [
    "name=joel\n",
    "echo 'My name is $name.'"
   ]
  },
  {
   "cell_type": "code",
   "execution_count": 2,
   "id": "4f09e44c",
   "metadata": {
    "vscode": {
     "languageId": "shellscript"
    }
   },
   "outputs": [
    {
     "name": "stdout",
     "output_type": "stream",
     "text": [
      "My name is joel.\n"
     ]
    }
   ],
   "source": [
    "name=joel\n",
    "echo \"My name is $name.\""
   ]
  },
  {
   "cell_type": "markdown",
   "id": "f2d781ed",
   "metadata": {},
   "source": []
  }
 ],
 "metadata": {
  "kernelspec": {
   "display_name": "Bash",
   "language": "bash",
   "name": "bash"
  },
  "language_info": {
   "codemirror_mode": "shell",
   "file_extension": ".sh",
   "mimetype": "text/x-sh",
   "name": "bash"
  }
 },
 "nbformat": 4,
 "nbformat_minor": 5
}
