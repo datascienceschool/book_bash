{
 "cells": [
  {
   "cell_type": "markdown",
   "id": "9190f691",
   "metadata": {},
   "source": [
    "# 명령 실행 방식"
   ]
  },
  {
   "cell_type": "markdown",
   "id": "6b2e6693",
   "metadata": {},
   "source": [
    "셸은 다음과 같은 명령 실행 방식을 제공\n",
    "\n",
    "1. 단일 명령 실행\n",
    "2. 명령 파이프라인 실행\n",
    "3. 명령 리스트 실행\n",
    "4. 복합 명령 실행"
   ]
  },
  {
   "cell_type": "markdown",
   "id": "6f916e07",
   "metadata": {},
   "source": [
    "## 단일 명령 실행"
   ]
  },
  {
   "cell_type": "markdown",
   "id": "cd67413d",
   "metadata": {},
   "source": [
    "- 단일 명령은 단어와 공백의 반복이며 마지막에 제어연산자(control operator)로 끝난다."
   ]
  },
  {
   "cell_type": "markdown",
   "id": "98635430",
   "metadata": {},
   "source": [
    "### 제어연산자"
   ]
  },
  {
   "cell_type": "markdown",
   "id": "6e971798",
   "metadata": {},
   "source": [
    "- 줄바꿈 문자(newline)\n",
    "- 파이프라인 연산자\n",
    "  - `|`\n",
    "  - `|&`\n",
    "- 리스트 연산자\n",
    "  - `;`\n",
    "  - `&`\n",
    "  - `||`\n",
    "  - `&&`, \n",
    "- case 조건 종료 연산자\n",
    "  - `;;`\n",
    "  - `;&`\n",
    "  - `;;&`\n",
    "- 그룹실행 연산자\n",
    "  - `(`\n",
    "  - `)`"
   ]
  },
  {
   "cell_type": "markdown",
   "id": "97998973",
   "metadata": {},
   "source": [
    "### 단일 명령의 실행 구조"
   ]
  },
  {
   "cell_type": "markdown",
   "id": "a9b314c8",
   "metadata": {},
   "source": [
    "1. 변수 할당 또는 리디렉션이 있는 경우 나중에 실행하기 위해 임시 저장\n",
    "2. 변수 할당 또는 리디렉션이 아닌 단어는 확장\n",
    "3. 확장 후 첫번째 단어를 명령어로, 나머지 단어들을 인수로 인식"
   ]
  },
  {
   "cell_type": "markdown",
   "id": "92581c51",
   "metadata": {},
   "source": [
    "## 명령 파이프라인 실행"
   ]
  },
  {
   "cell_type": "markdown",
   "id": "3eda3564",
   "metadata": {},
   "source": [
    "명령 파이프라인은 명령이 다음 4가지 구분자로 연결된 것을 말한다. \n",
    "\n",
    "- `|`\n",
    "- `|&`"
   ]
  },
  {
   "cell_type": "markdown",
   "id": "c846d7a3",
   "metadata": {},
   "source": [
    "## 명령 리스트 실행"
   ]
  },
  {
   "cell_type": "markdown",
   "id": "ebab71aa",
   "metadata": {},
   "source": [
    "명령 리스트는 명령 또는 명령 파이프라인이 다음 4가지 구분자로 연결된 것을 말한다.\n",
    "\n",
    "- `;`\n",
    "  - 실행결과와 상관없이 명령을 순차적 실행\n",
    "- `&`\n",
    "  - 실행결과와 상관없이 명령을 순차적으로 백드라운드 실행\n",
    "- `&&`\n",
    "  - 실행결과가 0일 때(성공)만 다음 명령 실행. 실행결과가 0이 아니면 중지\n",
    "- `||`\n",
    "  - 실행결과가 0이 아닐 때(실패)만 다음 명령 실행. 실행결과가 0이면 중지.\n"
   ]
  },
  {
   "cell_type": "markdown",
   "id": "eeab3988",
   "metadata": {},
   "source": [
    "## 복합 실행"
   ]
  },
  {
   "cell_type": "markdown",
   "id": "458a267f",
   "metadata": {},
   "source": [
    "복합 실행은 하나 이상의 명령 리스트가 다음과 같은 구성으로 조합되어 실행되는 것을 말한다\n",
    "\n",
    "1. 루프 실행\n",
    "2. 조건 실행\n",
    "3. 그룹 실행"
   ]
  },
  {
   "cell_type": "markdown",
   "id": "87a67366",
   "metadata": {},
   "source": [
    "### 루프 실행"
   ]
  },
  {
   "cell_type": "markdown",
   "id": "589ef323",
   "metadata": {},
   "source": [
    "1. `until`\n",
    "2. `while`\n",
    "3. `for`"
   ]
  },
  {
   "cell_type": "markdown",
   "id": "3708ac88",
   "metadata": {},
   "source": [
    "### 조건 실행"
   ]
  },
  {
   "cell_type": "markdown",
   "id": "84207c6d",
   "metadata": {},
   "source": [
    "1. `if`\n",
    "2. `case`\n",
    "3. `select`\n",
    "4. `(( ))`\n",
    "5. `[[ ]]`"
   ]
  },
  {
   "cell_type": "markdown",
   "id": "1ba52aff",
   "metadata": {},
   "source": [
    "### 그룹 실행"
   ]
  },
  {
   "cell_type": "markdown",
   "id": "43a55df8",
   "metadata": {},
   "source": [
    "1. `( list )`\n",
    "  - 서브셸을 생성하고 모든 명령을 서브셸에서 실행\n",
    "2. `{ list; }`\n",
    "  - 서브셸을 생성하지 않고 모든 명령을 현재의 셸에서 실행\n",
    "  - 마지막에 리스트내의 명령어와 `}` 기호를 구분하기 위해 반드시 `;` 기호 필요 ( `;` 기호가 없으면 `}` 기호가 리스트로 인식될 수 있음)\n"
   ]
  },
  {
   "cell_type": "markdown",
   "id": "5aeb64dc",
   "metadata": {},
   "source": []
  }
 ],
 "metadata": {
  "language_info": {
   "name": "python"
  }
 },
 "nbformat": 4,
 "nbformat_minor": 5
}
