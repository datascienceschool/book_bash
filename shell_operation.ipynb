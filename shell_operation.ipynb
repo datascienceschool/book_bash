{
 "cells": [
  {
   "cell_type": "markdown",
   "id": "95735c5c",
   "metadata": {},
   "source": [
    "# 셸 동작"
   ]
  },
  {
   "cell_type": "markdown",
   "id": "4b0be50c",
   "metadata": {},
   "source": [
    ":::{.hidden}\n",
    "\n",
    "- https://www.gnu.org/software/bash/manual/bash.html#Shell-Operation-1\n",
    "- chrome-extension://oemmndcbldboiebfnladdacbdfmadadm/file:///Users/joelkim/Work/study/study_linux/book/Script/Newham/2005%20-%20Newham%20-%20Learning%20the%20bash%20Shell.pdf#G11.633225\n",
    "- chrome-extension://oemmndcbldboiebfnladdacbdfmadadm/file:///Users/joelkim/Work/study/study_linux/book/Script/Johnson/2015%20-%20Johnson%20-%20Pro%20Bash%20Programming.pdf#9781484201220_Ch04.indd%3Ab9781484201220_4%3A1\n",
    "- chrome-extension://oemmndcbldboiebfnladdacbdfmadadm/file:///Users/joelkim/Work/study/study_linux/book/Script/Varma/2023%20-%20%C2%A0Varma%20-%20Pro%20Bash.pdf#0005706048.indd%3Ab978-1-4842-9588-5_4%3A160\n",
    "\n",
    ":::"
   ]
  },
  {
   "cell_type": "markdown",
   "id": "c23e0cc8",
   "metadata": {},
   "source": [
    "셸의 동작 순서는 다음과 같다.\n",
    "\n",
    "1. 문자열 읽기\n",
    "2. 토큰화\n",
    "3. 파싱\n",
    "4. 확장\n",
    "5. 리디렉션\n",
    "6. 명령 수행\n",
    "7. 명령 종료시까지 대기"
   ]
  },
  {
   "cell_type": "markdown",
   "id": "78cbede3",
   "metadata": {},
   "source": [
    "## 토큰화"
   ]
  },
  {
   "cell_type": "markdown",
   "id": "146f1c2d",
   "metadata": {},
   "source": [
    "토큰화는 입력된 문자열을 다음과 같이 구분하여 묶는다.\n",
    "\n",
    "- 단어\n",
    "- 공백\n",
    "- 연산자\n",
    "\n",
    "이 때 인용(quoting) 규칙 및 별칭 확장(alias expansion) 규칙이 사용된다."
   ]
  },
  {
   "cell_type": "markdown",
   "id": "9a2ca2dc",
   "metadata": {},
   "source": [
    "### 별칭 확장 규칙"
   ]
  },
  {
   "cell_type": "markdown",
   "id": "f2d781ed",
   "metadata": {},
   "source": []
  }
 ],
 "metadata": {
  "kernelspec": {
   "display_name": "Bash",
   "language": "bash",
   "name": "bash"
  },
  "language_info": {
   "codemirror_mode": "shell",
   "file_extension": ".sh",
   "mimetype": "text/x-sh",
   "name": "bash"
  }
 },
 "nbformat": 4,
 "nbformat_minor": 5
}
