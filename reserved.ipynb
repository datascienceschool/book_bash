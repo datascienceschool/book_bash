{
 "cells": [
  {
   "cell_type": "markdown",
   "id": "20d072c6",
   "metadata": {},
   "source": [
    "# 예약어"
   ]
  },
  {
   "cell_type": "markdown",
   "id": "faa42807",
   "metadata": {},
   "source": [
    "## 예약어 목록"
   ]
  },
  {
   "cell_type": "markdown",
   "id": "4af7fbbf",
   "metadata": {},
   "source": [
    "- `if`\t\n",
    "- `then`\t\n",
    "- `elif`\t\n",
    "- `else`\t\n",
    "- `fi`\t\n",
    "- `time`\n",
    "- `for`\t\n",
    "- `in`\t\n",
    "- `until`\t\n",
    "- `while`\t\n",
    "- `do`\t\n",
    "- `done`\n",
    "- `case`\t\n",
    "- `esac`\t\n",
    "- `coproc`\t\n",
    "- `select`\t\n",
    "- `function`\n",
    "- `{`\t\n",
    "- `}`\t\n",
    "- `[[`\t\n",
    "- `]]`\t\n",
    "- `!`"
   ]
  },
  {
   "cell_type": "markdown",
   "id": "614e47b2",
   "metadata": {},
   "source": []
  }
 ],
 "metadata": {
  "language_info": {
   "name": "python"
  }
 },
 "nbformat": 4,
 "nbformat_minor": 5
}
