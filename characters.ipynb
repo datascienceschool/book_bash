{
 "cells": [
  {
   "cell_type": "markdown",
   "id": "20d072c6",
   "metadata": {},
   "source": [
    "# 문자"
   ]
  },
  {
   "cell_type": "markdown",
   "id": "6a6b14a1",
   "metadata": {},
   "source": [
    "## 메타문자"
   ]
  },
  {
   "cell_type": "markdown",
   "id": "eea32d76",
   "metadata": {},
   "source": [
    "- 셸 입력 문자열은 토큰(token)으로 분리된다.\n",
    "- 메타문자(metacharacter)는 셸 입력 문자열을 토큰으로 분리하는 기준이 되는 특수문자이다. \n",
    "- 메타문자에는 다음 10가지가 있다.\n",
    "  1. 공백문자(space)\n",
    "  2. 탭문자(tab)\n",
    "  3. 개행문자(newline)\n",
    "  4. `|`\n",
    "  5. `&`\n",
    "  6. `;`\n",
    "  7. `(`\n",
    "  8. `)`\n",
    "  9. `<`\n",
    "  10. `>`"
   ]
  },
  {
   "cell_type": "markdown",
   "id": "429def23",
   "metadata": {},
   "source": [
    "#### 참조: `syntax.h` 파일"
   ]
  },
  {
   "cell_type": "markdown",
   "id": "21fb0de3",
   "metadata": {},
   "source": [
    "```c\n",
    "#define shell_meta_chars   \"()<>;&|\"\n",
    "#define shell_break_chars  \"()<>;&| \\t\\n\"\n",
    "```"
   ]
  },
  {
   "cell_type": "markdown",
   "id": "1b0ee3c1",
   "metadata": {},
   "source": [
    "## 토큰"
   ]
  },
  {
   "cell_type": "markdown",
   "id": "0d388cdb",
   "metadata": {},
   "source": [
    "- 예약어(reserved word)\n",
    "- 연산자(operator)\n",
    "- 단어(`<word>`)\n",
    "- 숫자(`<number>`)\n",
    "- 단어 리스트(`<word_list>`)\n",
    "- 명령어(`<command>`)\n"
   ]
  },
  {
   "cell_type": "markdown",
   "id": "07f7b353",
   "metadata": {},
   "source": [
    "#### 참조: `parse.y` 파일"
   ]
  },
  {
   "cell_type": "markdown",
   "id": "db9a31f2",
   "metadata": {},
   "source": [
    "```y\n",
    "/* Reserved words.  Members of the first group are only recognized\n",
    "   in the case that they are preceded by a list_terminator.  Members\n",
    "   of the second group are for [[...]] commands.  Members of the\n",
    "   third group are recognized only under special circumstances. */\n",
    "%token IF THEN ELSE ELIF FI CASE ESAC FOR SELECT WHILE UNTIL DO DONE FUNCTION COPROC\n",
    "%token COND_START COND_END COND_ERROR\n",
    "%token IN BANG TIME TIMEOPT TIMEIGN\n",
    "\n",
    "/* More general tokens. yylex () knows how to make these. */\n",
    "%token <word> WORD ASSIGNMENT_WORD REDIR_WORD\n",
    "%token <number> NUMBER\n",
    "%token <word_list> ARITH_CMD ARITH_FOR_EXPRS\n",
    "%token <command> COND_CMD\n",
    "%token AND_AND OR_OR GREATER_GREATER LESS_LESS LESS_AND LESS_LESS_LESS\n",
    "%token GREATER_AND SEMI_SEMI SEMI_AND SEMI_SEMI_AND\n",
    "%token LESS_LESS_MINUS AND_GREATER AND_GREATER_GREATER LESS_GREATER\n",
    "%token GREATER_BAR BAR_AND\n",
    "```"
   ]
  },
  {
   "cell_type": "markdown",
   "id": "faa42807",
   "metadata": {},
   "source": [
    "## 예약어"
   ]
  },
  {
   "cell_type": "markdown",
   "id": "4af7fbbf",
   "metadata": {},
   "source": [
    "- `if`\t\n",
    "- `then`\t\n",
    "- `elif`\t\n",
    "- `else`\t\n",
    "- `fi`\t\n",
    "- `time`\n",
    "- `for`\t\n",
    "- `in`\t\n",
    "- `until`\t\n",
    "- `while`\t\n",
    "- `do`\t\n",
    "- `done`\n",
    "- `case`\t\n",
    "- `esac`\t\n",
    "- `coproc`\t\n",
    "- `select`\t\n",
    "- `function`\n",
    "- `{`\t\n",
    "- `}`\t\n",
    "- `[[`\t\n",
    "- `]]`\t\n",
    "- `!`"
   ]
  },
  {
   "cell_type": "code",
   "execution_count": 5,
   "id": "494f2ffe",
   "metadata": {
    "vscode": {
     "languageId": "shellscript"
    }
   },
   "outputs": [],
   "source": [
    "# | echo=false\n",
    "alias bash_debug=/Users/joelkim/Work/study/study_linux/source/bash/bash"
   ]
  },
  {
   "cell_type": "code",
   "execution_count": 4,
   "id": "62a982cf",
   "metadata": {
    "vscode": {
     "languageId": "shellscript"
    }
   },
   "outputs": [
    {
     "name": "stdout",
     "output_type": "stream",
     "text": [
      "Starting parse\n",
      "Entering state 0\n",
      "Stack now 0\n",
      "Reading a token\n",
      "Next token is token WORD ()\n",
      "Shifting token WORD ()\n",
      "Entering state 13\n",
      "Stack now 0 13\n",
      "Reading a token\n",
      "Next token is token WORD ()\n",
      "Reducing stack by rule 55 (line 804):\n",
      "   $1 = token WORD ()\n",
      "-> $$ = nterm simple_command_element ()\n",
      "Entering state 38\n",
      "Stack now 0 38\n",
      "Reducing stack by rule 60 (line 831):\n",
      "   $1 = nterm simple_command_element ()\n",
      "-> $$ = nterm simple_command ()\n",
      "Entering state 39\n",
      "Stack now 0 39\n",
      "Next token is token WORD ()\n",
      "Shifting token WORD ()\n",
      "Entering state 129\n",
      "Stack now 0 39 129\n",
      "Reducing stack by rule 55 (line 804):\n",
      "   $1 = token WORD ()\n",
      "-> $$ = nterm simple_command_element ()\n",
      "Entering state 130\n",
      "Stack now 0 39 130\n",
      "Reducing stack by rule 61 (line 833):\n",
      "   $1 = nterm simple_command ()\n",
      "   $2 = nterm simple_command_element ()\n",
      "-> $$ = nterm simple_command ()\n",
      "Entering state 39\n",
      "Stack now 0 39\n",
      "Reading a token\n",
      "Next token is token '\\n' ()\n",
      "Reducing stack by rule 62 (line 837):\n",
      "   $1 = nterm simple_command ()\n",
      "-> $$ = nterm command ()\n",
      "Entering state 40\n",
      "Stack now 0 40\n",
      "Reducing stack by rule 175 (line 1496):\n",
      "   $1 = nterm command ()\n",
      "-> $$ = nterm pipeline ()\n",
      "Entering state 58\n",
      "Stack now 0 58\n",
      "Next token is token '\\n' ()\n",
      "Reducing stack by rule 168 (line 1408):\n",
      "   $1 = nterm pipeline ()\n",
      "-> $$ = nterm pipeline_command ()\n",
      "Entering state 57\n",
      "Stack now 0 57\n",
      "Reducing stack by rule 167 (line 1404):\n",
      "   $1 = nterm pipeline_command ()\n",
      "-> $$ = nterm simple_list1 ()\n",
      "Entering state 56\n",
      "Stack now 0 56\n",
      "Next token is token '\\n' ()\n",
      "Reducing stack by rule 160 (line 1340):\n",
      "   $1 = nterm simple_list1 ()\n",
      "-> $$ = nterm simple_list ()\n",
      "Entering state 55\n",
      "Stack now 0 55\n",
      "Next token is token '\\n' ()\n",
      "Shifting token '\\n' ()\n",
      "Entering state 133\n",
      "Stack now 0 55 133\n",
      "Reducing stack by rule 151 (line 1310):\n",
      "   $1 = token '\\n' ()\n",
      "-> $$ = nterm simple_list_terminator ()\n",
      "Entering state 135\n",
      "Stack now 0 55 135\n",
      "Reducing stack by rule 1 (line 435):\n",
      "   $1 = nterm simple_list ()\n",
      "   $2 = nterm simple_list_terminator ()\n",
      "Stack now 0\n",
      "hello\n"
     ]
    }
   ],
   "source": [
    "bash_debug -c \"echo hello\""
   ]
  },
  {
   "cell_type": "code",
   "execution_count": null,
   "id": "ae6aae65",
   "metadata": {
    "vscode": {
     "languageId": "shellscript"
    }
   },
   "outputs": [],
   "source": []
  }
 ],
 "metadata": {
  "kernelspec": {
   "display_name": "Bash",
   "language": "bash",
   "name": "bash"
  },
  "language_info": {
   "codemirror_mode": "shell",
   "file_extension": ".sh",
   "mimetype": "text/x-sh",
   "name": "bash"
  }
 },
 "nbformat": 4,
 "nbformat_minor": 5
}
