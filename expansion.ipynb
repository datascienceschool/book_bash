{
 "cells": [
  {
   "cell_type": "markdown",
   "id": "47da98c4",
   "metadata": {},
   "source": [
    "# 확장"
   ]
  },
  {
   "cell_type": "markdown",
   "id": "8b0bd100",
   "metadata": {},
   "source": []
  }
 ],
 "metadata": {
  "language_info": {
   "name": "python"
  }
 },
 "nbformat": 4,
 "nbformat_minor": 5
}
