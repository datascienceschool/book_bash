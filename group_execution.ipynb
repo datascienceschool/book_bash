{
 "cells": [
  {
   "cell_type": "markdown",
   "id": "fd982ed6",
   "metadata": {},
   "source": [
    "# 그룹 실행의 예시"
   ]
  },
  {
   "cell_type": "code",
   "execution_count": null,
   "id": "3eddaf2b",
   "metadata": {},
   "outputs": [],
   "source": [
    "%%bash\n",
    "{\n",
    "  if test -z '$(MAKELEVEL)'; then\n",
    "    false;\n",
    "  elif test -n '$(MAKE_HOST)'; then\n",
    "    true;\n",
    "  elif test -n '$(MAKE_VERSION)' && test -n '$(CURDIR)'; then\n",
    "    true;\n",
    "  else\n",
    "    false;\n",
    "  fi;\n",
    "}"
   ]
  },
  {
   "cell_type": "markdown",
   "id": "a30a8768",
   "metadata": {},
   "source": []
  }
 ],
 "metadata": {
  "kernelspec": {
   "display_name": "base",
   "language": "python",
   "name": "python3"
  },
  "language_info": {
   "name": "python",
   "version": "3.12.8"
  }
 },
 "nbformat": 4,
 "nbformat_minor": 5
}
