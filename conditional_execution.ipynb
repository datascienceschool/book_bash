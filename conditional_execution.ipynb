{
 "cells": [
  {
   "cell_type": "markdown",
   "id": "f9412a66",
   "metadata": {},
   "source": [
    "# 조건 실행"
   ]
  },
  {
   "cell_type": "markdown",
   "id": "59c83082",
   "metadata": {},
   "source": [
    "## `if` 구문"
   ]
  },
  {
   "cell_type": "code",
   "execution_count": 3,
   "id": "ff558ef6",
   "metadata": {},
   "outputs": [
    {
     "name": "stdout",
     "output_type": "stream",
     "text": [
      "0\n"
     ]
    }
   ],
   "source": [
    "%%bash\n",
    "true\n",
    "echo $?"
   ]
  },
  {
   "cell_type": "code",
   "execution_count": 4,
   "id": "7c624544",
   "metadata": {},
   "outputs": [
    {
     "name": "stdout",
     "output_type": "stream",
     "text": [
      "1\n"
     ]
    }
   ],
   "source": [
    "%%bash\n",
    "false\n",
    "echo $?"
   ]
  },
  {
   "cell_type": "code",
   "execution_count": null,
   "id": "8252dc61",
   "metadata": {},
   "outputs": [
    {
     "name": "stdout",
     "output_type": "stream",
     "text": [
      "debug2\n"
     ]
    },
    {
     "name": "stdout",
     "output_type": "stream",
     "text": [
      "\n",
      "0\n"
     ]
    }
   ],
   "source": [
    "%%bash\n",
    "if test -z '$(MAKELEVEL)'; then\n",
    "  false;\n",
    "elif test -n '$(MAKE_HOST)'; then\n",
    "  true;\n",
    "elif test -n '$(MAKE_VERSION)' && test -n '$(CURDIR)'; then\n",
    "  true;\n",
    "else\n",
    "  false;\n",
    "fi\n",
    "\n",
    "echo $?"
   ]
  },
  {
   "cell_type": "markdown",
   "id": "415fab60",
   "metadata": {},
   "source": []
  }
 ],
 "metadata": {
  "kernelspec": {
   "display_name": "base",
   "language": "python",
   "name": "python3"
  },
  "language_info": {
   "codemirror_mode": {
    "name": "ipython",
    "version": 3
   },
   "file_extension": ".py",
   "mimetype": "text/x-python",
   "name": "python",
   "nbconvert_exporter": "python",
   "pygments_lexer": "ipython3",
   "version": "3.12.8"
  }
 },
 "nbformat": 4,
 "nbformat_minor": 5
}
