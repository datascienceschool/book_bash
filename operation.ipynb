{
 "cells": [
  {
   "cell_type": "markdown",
   "id": "95735c5c",
   "metadata": {},
   "source": [
    "# 동작"
   ]
  },
  {
   "cell_type": "markdown",
   "id": "c23e0cc8",
   "metadata": {},
   "source": [
    "셀의 동작 순서는 다음과 같다.\n",
    "\n",
    "1. 토큰화\n",
    "2. 파싱\n",
    "3. 확장\n",
    "4. 리디렉션\n",
    "5. 명령 수행\n",
    "6. 명령 종료시까지 대기"
   ]
  },
  {
   "cell_type": "markdown",
   "id": "78cbede3",
   "metadata": {},
   "source": [
    "## 토큰화"
   ]
  },
  {
   "cell_type": "markdown",
   "id": "146f1c2d",
   "metadata": {},
   "source": [
    "토큰화는 입력된 문자열을 다음과 같이 구분하여 묶는다.\n",
    "\n",
    "- 단어\n",
    "- 공백\n",
    "- 연산자\n",
    "\n",
    "이 때 인용(quoting) 및 별칭확장(alias expansion)이 사용된다."
   ]
  },
  {
   "cell_type": "markdown",
   "id": "70a43112",
   "metadata": {},
   "source": []
  }
 ],
 "metadata": {
  "language_info": {
   "name": "python"
  }
 },
 "nbformat": 4,
 "nbformat_minor": 5
}
